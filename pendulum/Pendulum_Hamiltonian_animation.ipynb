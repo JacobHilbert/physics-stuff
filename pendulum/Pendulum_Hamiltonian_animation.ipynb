{
 "cells": [
  {
   "cell_type": "code",
   "execution_count": 509,
   "metadata": {},
   "outputs": [],
   "source": [
    "import numpy as np\n",
    "import matplotlib.pyplot as plt\n",
    "import sympy as s\n",
    "\n",
    "from tqdm import tqdm\n",
    "from sympy import Integer as Int # see https://docs.sympy.org/latest/tutorial/gotchas.html#two-final-notes-and\n",
    "from scipy.integrate import solve_ivp\n",
    "from IPython.display import Video"
   ]
  },
  {
   "cell_type": "code",
   "execution_count": 510,
   "metadata": {},
   "outputs": [],
   "source": [
    "# constants\n",
    "m,g,l = s.symbols(\"m g \\ell\",positive=True) \n",
    "# not functions, act as varaibles\n",
    "θ1,θ2,ω1,ω2 = s.symbols(r\"\\theta_1 \\theta_2 \\omega_1 \\omega_2\")\n",
    "# functions, for differentiation of coordinates\n",
    "Θ1,Θ2 = s.symbols(r\"\\Theta_1 \\Theta_2\",cls=s.Function) \n",
    "t = s.symbols(\"t\")\n",
    "\n",
    "\n",
    "m1 = m2 = m\n",
    "l1 = l2 = l"
   ]
  },
  {
   "cell_type": "code",
   "execution_count": 511,
   "metadata": {},
   "outputs": [],
   "source": [
    "# coordinates\n",
    "x1 =  l1*s.sin(Θ1(t))\n",
    "y1 = -l1*s.cos(Θ1(t))\n",
    "x2 = x1+l2*s.sin(Θ2(t))\n",
    "y2 = y1-l2*s.cos(Θ2(t))\n",
    "# Inertia\n",
    "I1 = m1*(x1**2+y1**2)\n",
    "I2 = m2*(x2**2+y2**2)"
   ]
  },
  {
   "cell_type": "code",
   "execution_count": 512,
   "metadata": {},
   "outputs": [],
   "source": [
    "# translational and rotational Kinetic energy\n",
    "K = m1*(x1.diff(t)**2+y1.diff(t)**2)/Int(2) + I1*ω1**2/Int(2) + \\\n",
    "    m1*(x2.diff(t)**2+y2.diff(t)**2)/Int(2) + I2*ω2**2/Int(2)\n",
    "# potential energy\n",
    "U = m1*g*y1 + m2*g*y2"
   ]
  },
  {
   "cell_type": "code",
   "execution_count": 513,
   "metadata": {},
   "outputs": [],
   "source": [
    "L = s.simplify((K-U).subs([\n",
    "    [Θ1(t).diff(),ω1],\n",
    "    [Θ2(t).diff(),ω2],\n",
    "    [Θ1(t),θ1],\n",
    "    [Θ2(t),θ2],\n",
    "]))"
   ]
  },
  {
   "cell_type": "code",
   "execution_count": 514,
   "metadata": {},
   "outputs": [],
   "source": [
    "# solve the velocities in terms of the momenta, and substitute to obrtain a lagrangian in phase space L(q,p)\n",
    "\n",
    "p1,p2 = s.symbols(\"p1 p2\")\n",
    "\n",
    "sol = s.solve([\n",
    "    s.Eq(p1, L.diff(ω1)),\n",
    "    s.Eq(p2, L.diff(ω2))\n",
    "],[ω1,ω2])\n",
    "\n",
    "L = L.subs(sol)"
   ]
  },
  {
   "cell_type": "markdown",
   "metadata": {},
   "source": [
    "$$\n",
    "\\mathcal{H} = \\dot q_\\mu p^\\mu - \\mathcal{L}\n",
    "$$"
   ]
  },
  {
   "cell_type": "code",
   "execution_count": 515,
   "metadata": {},
   "outputs": [],
   "source": [
    "H = sol[ω1]*p1+sol[ω2]*p2-L"
   ]
  },
  {
   "cell_type": "markdown",
   "metadata": {},
   "source": [
    "$$\n",
    "y = \\{\\theta_1,\\theta_2,p_1,p_2\\} \\qquad \\frac{dy}{dt} = f(t,y) \n",
    "$$\n",
    "\n",
    "$$\\frac{\\mathrm{d}\\boldsymbol{p}}{\\mathrm{d}t} = -\\frac{\\partial \\mathcal{H}}{\\partial \\boldsymbol{q}}\\quad,\\quad\n",
    "\\frac{\\mathrm{d}\\boldsymbol{q}}{\\mathrm{d}t} = +\\frac{\\partial \\mathcal{H}}{\\partial \\boldsymbol{p}}\n",
    "$$"
   ]
  },
  {
   "cell_type": "code",
   "execution_count": 516,
   "metadata": {},
   "outputs": [],
   "source": [
    "f = [H.diff(p1),H.diff(p2),-H.diff(θ1),-H.diff(θ2)]\n",
    "#f = [*map(s.simplify,[H.diff(p1),H.diff(p2),-H.diff(θ1),-H.diff(θ2)])]"
   ]
  },
  {
   "cell_type": "code",
   "execution_count": 517,
   "metadata": {},
   "outputs": [],
   "source": [
    "def make_F(m_,l_,g_=9.8):\n",
    "    fn = s.Matrix([[*map(lambda _:_.subs({m:m_,l:l_,g:g_}),f)]])\n",
    "    F = s.lambdify([t,(θ1,θ2,p1,p2)],fn,\"numpy\")\n",
    "    return lambda t,y: F(t,y)[0]"
   ]
  },
  {
   "cell_type": "code",
   "execution_count": 522,
   "metadata": {},
   "outputs": [
    {
     "name": "stdout",
     "output_type": "stream",
     "text": [
      "CPU times: user 17 s, sys: 27.8 ms, total: 17 s\n",
      "Wall time: 17 s\n"
     ]
    }
   ],
   "source": [
    "%%time\n",
    "ini = np.array([1,0.6,0,0])\n",
    "σ = 0.1\n",
    "N = 50 \n",
    "tmax = 10\n",
    "dt = 0.01\n",
    "\n",
    "# several solutions with random normal deviations in the phase space\n",
    "nsols = [solve_ivp(\n",
    "    make_F(1,1),\n",
    "    (0,10),\n",
    "    ini+np.random.normal(scale=σ,size=4),\n",
    "    t_eval=np.arange(0,tmax,dt)\n",
    ") for _ in range(N)]\n",
    "\n",
    "Ys = [nsol[\"y\"] for nsol in nsols]"
   ]
  },
  {
   "cell_type": "code",
   "execution_count": 523,
   "metadata": {},
   "outputs": [],
   "source": [
    "x1s = [np.sin(Y[0]) for Y in Ys]\n",
    "y1s = [-np.cos(Y[0]) for Y in Ys]\n",
    "x2s = [np.sin(Y[0]) + np.sin(Y[1]) for Y in Ys]\n",
    "y2s = [-np.cos(Y[0]) - np.cos(Y[1]) for Y in Ys]"
   ]
  },
  {
   "cell_type": "code",
   "execution_count": 524,
   "metadata": {},
   "outputs": [
    {
     "data": {
      "image/png": "[encoded data removed]",
      "text/plain": [
       "<Figure size 360x360 with 1 Axes>"
      ]
     },
     "metadata": {
      "needs_background": "light"
     },
     "output_type": "display_data"
    }
   ],
   "source": [
    "i=5\n",
    "plt.figure(figsize=(5,5))\n",
    "plt.xlim([-2,2])\n",
    "plt.ylim([-2,2])\n",
    "for j in range(N):\n",
    "    plt.plot([0,x1s[j][i]],[0,y1s[j][i]],\"ko-\",alpha=0.1)\n",
    "    plt.plot([x1s[j][i],x2s[j][i]],[y1s[j][i],y2s[j][i]],\"ko-\",alpha=0.1)"
   ]
  },
  {
   "cell_type": "code",
   "execution_count": 525,
   "metadata": {},
   "outputs": [],
   "source": [
    "# remove existent images\n",
    "!rm -f *.png"
   ]
  },
  {
   "cell_type": "code",
   "execution_count": 526,
   "metadata": {
    "scrolled": false
   },
   "outputs": [
    {
     "name": "stderr",
     "output_type": "stream",
     "text": [
      "100%|███████████████████████████████████████████████████████████| 1000/1000 [04:37<00:00,  3.61it/s]\n"
     ]
    },
    {
     "data": {
      "text/plain": [
       "<Figure size 720x720 with 0 Axes>"
      ]
     },
     "metadata": {},
     "output_type": "display_data"
    }
   ],
   "source": [
    "plt.figure(figsize=(10,10))\n",
    "\n",
    "# Every frame is an image\n",
    "for i in tqdm(range(len(Ys[0][0])),ncols=100):\n",
    "    plt.xlim([-2,2])\n",
    "    plt.ylim([-2,2])\n",
    "    for j in range(N):\n",
    "        plt.plot([0,x1s[j][i]],[0,y1s[j][i]],\"ko-\",alpha=0.1)\n",
    "        plt.plot([x1s[j][i],x2s[j][i]],[y1s[j][i],y2s[j][i]],\"ko-\",alpha=0.15)\n",
    "    plt.savefig(str(i).zfill(4)+\".png\")\n",
    "    plt.clf()"
   ]
  },
  {
   "cell_type": "code",
   "execution_count": 527,
   "metadata": {
    "scrolled": false
   },
   "outputs": [
    {
     "name": "stdout",
     "output_type": "stream",
     "text": [
      "ffmpeg version 4.2.4-1ubuntu0.1 Copyright (c) 2000-2020 the FFmpeg developers\n",
      "  built with gcc 9 (Ubuntu 9.3.0-10ubuntu2)\n",
      "  configuration: --prefix=/usr --extra-version=1ubuntu0.1 --toolchain=hardened --libdir=/usr/lib/x86_64-linux-gnu --incdir=/usr/include/x86_64-linux-gnu --arch=amd64 --enable-gpl --disable-stripping --enable-avresample --disable-filter=resample --enable-avisynth --enable-gnutls --enable-ladspa --enable-libaom --enable-libass --enable-libbluray --enable-libbs2b --enable-libcaca --enable-libcdio --enable-libcodec2 --enable-libflite --enable-libfontconfig --enable-libfreetype --enable-libfribidi --enable-libgme --enable-libgsm --enable-libjack --enable-libmp3lame --enable-libmysofa --enable-libopenjpeg --enable-libopenmpt --enable-libopus --enable-libpulse --enable-librsvg --enable-librubberband --enable-libshine --enable-libsnappy --enable-libsoxr --enable-libspeex --enable-libssh --enable-libtheora --enable-libtwolame --enable-libvidstab --enable-libvorbis --enable-libvpx --enable-libwavpack --enable-libwebp --enable-libx265 --enable-libxml2 --enable-libxvid --enable-libzmq --enable-libzvbi --enable-lv2 --enable-omx --enable-openal --enable-opencl --enable-opengl --enable-sdl2 --enable-libdc1394 --enable-libdrm --enable-libiec61883 --enable-nvenc --enable-chromaprint --enable-frei0r --enable-libx264 --enable-shared\n",
      "  libavutil      56. 31.100 / 56. 31.100\n",
      "  libavcodec     58. 54.100 / 58. 54.100\n",
      "  libavformat    58. 29.100 / 58. 29.100\n",
      "  libavdevice    58.  8.100 / 58.  8.100\n",
      "  libavfilter     7. 57.100 /  7. 57.100\n",
      "  libavresample   4.  0.  0 /  4.  0.  0\n",
      "  libswscale      5.  5.100 /  5.  5.100\n",
      "  libswresample   3.  5.100 /  3.  5.100\n",
      "  libpostproc    55.  5.100 / 55.  5.100\n",
      "Input #0, image2, from '*.png':\n",
      "  Duration: 00:00:33.33, start: 0.000000, bitrate: N/A\n",
      "    Stream #0:0: Video: png, rgba(pc), 720x720 [SAR 2835:2835 DAR 1:1], 30 fps, 30 tbr, 30 tbn, 30 tbc\n",
      "Stream mapping:\n",
      "  Stream #0:0 -> #0:0 (png (native) -> h264 (libx264))\n",
      "Press [q] to stop, [?] for help\n",
      "\u001b[1;36m[libx264 @ 0x55b8f87f5240] \u001b[0musing SAR=1/1\n",
      "\u001b[1;36m[libx264 @ 0x55b8f87f5240] \u001b[0musing cpu capabilities: MMX2 SSE2Fast SSSE3 SSE4.2 AVX FMA3 BMI2 AVX2\n",
      "\u001b[1;36m[libx264 @ 0x55b8f87f5240] \u001b[0mprofile High 4:4:4 Predictive, level 3.1, 4:4:4 8-bit\n",
      "\u001b[1;36m[libx264 @ 0x55b8f87f5240] \u001b[0m264 - core 155 r2917 0a84d98 - H.264/MPEG-4 AVC codec - Copyleft 2003-2018 - http://www.videolan.org/x264.html - options: cabac=1 ref=3 deblock=1:0:0 analyse=0x1:0x111 me=hex subme=7 psy=1 psy_rd=1.00:0.00 mixed_ref=1 me_range=16 chroma_me=1 trellis=1 8x8dct=0 cqm=0 deadzone=21,11 fast_pskip=1 chroma_qp_offset=4 threads=12 lookahead_threads=2 sliced_threads=0 nr=0 decimate=1 interlaced=0 bluray_compat=0 constrained_intra=0 bframes=3 b_pyramid=2 b_adapt=1 b_bias=0 direct=1 weightb=1 open_gop=0 weightp=2 keyint=250 keyint_min=25 scenecut=40 intra_refresh=0 rc_lookahead=40 rc=crf mbtree=1 crf=23.0 qcomp=0.60 qpmin=0 qpmax=69 qpstep=4 ip_ratio=1.40 aq=1:1.00\n",
      "Output #0, mp4, to 'out.mp4':\n",
      "  Metadata:\n",
      "    encoder         : Lavf58.29.100\n",
      "    Stream #0:0: Video: h264 (libx264) (avc1 / 0x31637661), yuv444p, 720x720 [SAR 1:1 DAR 1:1], q=-1--1, 30 fps, 15360 tbn, 30 tbc\n",
      "    Metadata:\n",
      "      encoder         : Lavc58.54.100 libx264\n",
      "    Side data:\n",
      "      cpb: bitrate max/min/avg: 0/0/0 buffer size: 0 vbv_delay: -1\n",
      "frame= 1000 fps=193 q=-1.0 Lsize=     791kB time=00:00:33.23 bitrate= 195.0kbits/s speed=6.41x    \n",
      "video:779kB audio:0kB subtitle:0kB other streams:0kB global headers:0kB muxing overhead: 1.560797%\n",
      "\u001b[1;36m[libx264 @ 0x55b8f87f5240] \u001b[0mframe I:4     Avg QP: 8.77  size:  7023\n",
      "\u001b[1;36m[libx264 @ 0x55b8f87f5240] \u001b[0mframe P:352   Avg QP:15.46  size:  1552\n",
      "\u001b[1;36m[libx264 @ 0x55b8f87f5240] \u001b[0mframe B:644   Avg QP:20.50  size:   345\n",
      "\u001b[1;36m[libx264 @ 0x55b8f87f5240] \u001b[0mconsecutive B-frames:  3.6% 27.8% 11.4% 57.2%\n",
      "\u001b[1;36m[libx264 @ 0x55b8f87f5240] \u001b[0mmb I  I16..4: 92.6%  0.0%  7.4%\n",
      "\u001b[1;36m[libx264 @ 0x55b8f87f5240] \u001b[0mmb P  I16..4:  0.4%  0.0%  0.5%  P16..4:  0.9%  1.4%  0.9%  0.0%  0.0%    skip:95.8%\n",
      "\u001b[1;36m[libx264 @ 0x55b8f87f5240] \u001b[0mmb B  I16..4:  0.0%  0.0%  0.0%  B16..8:  2.6%  0.9%  0.2%  direct: 0.1%  skip:96.2%  L0:25.5% L1:36.5% BI:38.1%\n",
      "\u001b[1;36m[libx264 @ 0x55b8f87f5240] \u001b[0mcoded y,u,v intra: 24.3% 0.0% 0.0% inter: 0.8% 0.0% 0.0%\n",
      "\u001b[1;36m[libx264 @ 0x55b8f87f5240] \u001b[0mi16 v,h,dc,p: 87%  9%  4%  0%\n",
      "\u001b[1;36m[libx264 @ 0x55b8f87f5240] \u001b[0mi4 v,h,dc,ddl,ddr,vr,hd,vl,hu: 16%  5% 15%  8% 24% 18%  6%  5%  3%\n",
      "\u001b[1;36m[libx264 @ 0x55b8f87f5240] \u001b[0mWeighted P-Frames: Y:0.0% UV:0.0%\n",
      "\u001b[1;36m[libx264 @ 0x55b8f87f5240] \u001b[0mref P L0: 79.2% 13.5%  5.6%  1.7%\n",
      "\u001b[1;36m[libx264 @ 0x55b8f87f5240] \u001b[0mref B L0: 91.9%  7.2%  0.9%\n",
      "\u001b[1;36m[libx264 @ 0x55b8f87f5240] \u001b[0mref B L1: 99.1%  0.9%\n",
      "\u001b[1;36m[libx264 @ 0x55b8f87f5240] \u001b[0mkb/s:191.24\n"
     ]
    }
   ],
   "source": [
    "!ffmpeg -framerate 30 -pattern_type glob -i '*.png' -c:v libx264  out.mp4 -y"
   ]
  },
  {
   "cell_type": "code",
   "execution_count": 528,
   "metadata": {},
   "outputs": [
    {
     "data": {
      "text/html": [
       "<video src=\"out.mp4\" controls  >\n",
       "      Your browser does not support the <code>video</code> element.\n",
       "    </video>"
      ],
      "text/plain": [
       "<IPython.core.display.Video object>"
      ]
     },
     "execution_count": 528,
     "metadata": {},
     "output_type": "execute_result"
    }
   ],
   "source": [
    "Video(\"out.mp4\")"
   ]
  },
  {
   "cell_type": "markdown",
   "metadata": {},
   "source": [
    "## How about triple pendulum?"
   ]
  },
  {
   "cell_type": "code",
   "execution_count": 533,
   "metadata": {},
   "outputs": [],
   "source": [
    "m,g,l = s.symbols(\"m g \\ell\",positive=True)\n",
    "θ1,θ2,θ3,ω1,ω2,ω3 = s.symbols(r\"\\theta_1 \\theta_2 \\theta_3 \\omega_1 \\omega_2 \\omega_3\")\n",
    "Θ1,Θ2,Θ3 = s.symbols(r\"\\Theta_1 \\Theta_2 \\Theta_3\",cls=s.Function) \n",
    "t = s.symbols(\"t\")\n",
    "\n",
    "\n",
    "m1 = m2 = m3 = m\n",
    "l1 = l2 = l3 = l\n",
    "\n",
    "# coordinates\n",
    "x1 =  l1*s.sin(Θ1(t))\n",
    "y1 = -l1*s.cos(Θ1(t))\n",
    "\n",
    "x2 = x1+l2*s.sin(Θ2(t))\n",
    "y2 = y1-l2*s.cos(Θ2(t))\n",
    "\n",
    "x3 = x2+l3*s.sin(Θ3(t))\n",
    "y3 = y2-l3*s.cos(Θ3(t))\n",
    "# Inertia\n",
    "I1 = m1*(x1**2+y1**2)\n",
    "I2 = m2*(x2**2+y2**2)\n",
    "I3 = m3*(x3**2+y3**2)"
   ]
  },
  {
   "cell_type": "code",
   "execution_count": 534,
   "metadata": {},
   "outputs": [],
   "source": [
    "%%time\n",
    "K = m1*(x1.diff(t)**2+y1.diff(t)**2)/Int(2) + I1*ω1**2/Int(2) + \\\n",
    "    m2*(x2.diff(t)**2+y2.diff(t)**2)/Int(2) + I2*ω2**2/Int(2) + \\\n",
    "    m3*(x3.diff(t)**2+y3.diff(t)**2)/Int(2) + I3*ω3**2/Int(2)\n",
    "\n",
    "U = m1*g*y1 + m2*g*y2 + m3*g*y3\n",
    "\n",
    "L = s.simplify((K-U).subs([\n",
    "    [Θ1(t).diff(),ω1],\n",
    "    [Θ2(t).diff(),ω2],\n",
    "    [Θ3(t).diff(),ω3],\n",
    "    [Θ1(t),θ1],\n",
    "    [Θ2(t),θ2],\n",
    "    [Θ3(t),θ3],\n",
    "]))\n",
    "\n",
    "p1,p2,p3 = s.symbols(\"p1 p2 p3\")\n",
    "\n",
    "sol = s.solve([\n",
    "    s.Eq(p1, L.diff(ω1)),\n",
    "    s.Eq(p2, L.diff(ω2)),\n",
    "    s.Eq(p3, L.diff(ω3))\n",
    "],[ω1,ω2,ω3])\n",
    "\n",
    "L = L.subs(sol)"
   ]
  },
  {
   "cell_type": "code",
   "execution_count": 553,
   "metadata": {},
   "outputs": [],
   "source": [
    "H = sol[ω1]*p1+sol[ω2]*p2+sol[ω3]*p3-L"
   ]
  },
  {
   "cell_type": "code",
   "execution_count": 554,
   "metadata": {},
   "outputs": [],
   "source": [
    "f = [H.diff(p1),H.diff(p2),H.diff(p3),-H.diff(θ1),-H.diff(θ2),-H.diff(θ3)]"
   ]
  },
  {
   "cell_type": "code",
   "execution_count": 555,
   "metadata": {},
   "outputs": [],
   "source": [
    "def make_F(m_,l_,g_=9.8):\n",
    "    fn = s.Matrix([[*map(lambda _:_.subs({m:m_,l:l_,g:g_}),f)]])\n",
    "    F = s.lambdify([t,(θ1,θ2,θ3,p1,p2,p3)],fn,\"numpy\")\n",
    "    return lambda t,y: F(t,y)[0]"
   ]
  },
  {
   "cell_type": "code",
   "execution_count": 556,
   "metadata": {},
   "outputs": [
    {
     "name": "stdout",
     "output_type": "stream",
     "text": [
      "CPU times: user 1min 14s, sys: 42.5 ms, total: 1min 14s\n",
      "Wall time: 1min 14s\n"
     ]
    }
   ],
   "source": [
    "%%time\n",
    "ini = np.array([np.pi,np.pi,np.pi,0,0,0])*0.4\n",
    "σ = 0.05\n",
    "N = 10\n",
    "tmax = 5\n",
    "dt = 0.01\n",
    "\n",
    "# several solutions with random normal deviations in the phase space\n",
    "nsols = [solve_ivp(\n",
    "    make_F(1,1),\n",
    "    (0,tmax),\n",
    "    ini+np.random.normal(scale=σ,size=6),\n",
    "    t_eval=np.arange(0,tmax,dt)\n",
    ") for _ in range(N)]\n",
    "\n",
    "Ys = [nsol[\"y\"] for nsol in nsols]"
   ]
  },
  {
   "cell_type": "code",
   "execution_count": 557,
   "metadata": {},
   "outputs": [],
   "source": [
    "x1s = [np.sin(Y[0]) for Y in Ys]\n",
    "y1s = [-np.cos(Y[0]) for Y in Ys]\n",
    "x2s = [np.sin(Y[0]) + np.sin(Y[1]) for Y in Ys]\n",
    "y2s = [-np.cos(Y[0]) - np.cos(Y[1]) for Y in Ys]\n",
    "x3s = [np.sin(Y[0]) + np.sin(Y[1]) + np.sin(Y[2]) for Y in Ys]\n",
    "y3s = [-np.cos(Y[0]) - np.cos(Y[1]) - np.cos(Y[2]) for Y in Ys]"
   ]
  },
  {
   "cell_type": "code",
   "execution_count": 558,
   "metadata": {},
   "outputs": [
    {
     "data": {
      "image/png": "[encoded data removed]",
      "text/plain": [
       "<Figure size 360x360 with 1 Axes>"
      ]
     },
     "metadata": {
      "needs_background": "light"
     },
     "output_type": "display_data"
    }
   ],
   "source": [
    "i=5\n",
    "plt.figure(figsize=(5,5))\n",
    "plt.xlim([-3,3])\n",
    "plt.ylim([-3,3])\n",
    "for j in range(N):\n",
    "    plt.plot([0,x1s[j][i]],[0,y1s[j][i]],\"ko-\",alpha=0.1)\n",
    "    plt.plot([x1s[j][i],x2s[j][i]],[y1s[j][i],y2s[j][i]],\"ko-\",alpha=0.1)\n",
    "    plt.plot([x2s[j][i],x3s[j][i]],[y2s[j][i],y3s[j][i]],\"ko-\",alpha=0.1)"
   ]
  },
  {
   "cell_type": "code",
   "execution_count": 559,
   "metadata": {},
   "outputs": [],
   "source": [
    "!rm -f *.png"
   ]
  },
  {
   "cell_type": "code",
   "execution_count": 560,
   "metadata": {},
   "outputs": [
    {
     "name": "stderr",
     "output_type": "stream",
     "text": [
      "100%|█████████████████████████████████████████████████████████████| 500/500 [01:25<00:00,  5.86it/s]\n"
     ]
    },
    {
     "data": {
      "text/plain": [
       "<Figure size 720x720 with 0 Axes>"
      ]
     },
     "metadata": {},
     "output_type": "display_data"
    }
   ],
   "source": [
    "plt.figure(figsize=(10,10))\n",
    "\n",
    "# Every frame is an image\n",
    "for i in tqdm(range(len(Ys[0][0])),ncols=100):\n",
    "    plt.xlim([-3,3])\n",
    "    plt.ylim([-3,3])\n",
    "    for j in range(N):\n",
    "        plt.plot([0,x1s[j][i]],[0,y1s[j][i]],\"ko-\",alpha=0.1)\n",
    "        plt.plot([x1s[j][i],x2s[j][i]],[y1s[j][i],y2s[j][i]],\"ko-\",alpha=0.15)\n",
    "        plt.plot([x2s[j][i],x3s[j][i]],[y2s[j][i],y3s[j][i]],\"ko-\",alpha=0.2)\n",
    "    plt.savefig(str(i).zfill(4)+\".png\")\n",
    "    plt.clf()"
   ]
  },
  {
   "cell_type": "code",
   "execution_count": 561,
   "metadata": {},
   "outputs": [
    {
     "name": "stdout",
     "output_type": "stream",
     "text": [
      "ffmpeg version 4.2.4-1ubuntu0.1 Copyright (c) 2000-2020 the FFmpeg developers\n",
      "  built with gcc 9 (Ubuntu 9.3.0-10ubuntu2)\n",
      "  configuration: --prefix=/usr --extra-version=1ubuntu0.1 --toolchain=hardened --libdir=/usr/lib/x86_64-linux-gnu --incdir=/usr/include/x86_64-linux-gnu --arch=amd64 --enable-gpl --disable-stripping --enable-avresample --disable-filter=resample --enable-avisynth --enable-gnutls --enable-ladspa --enable-libaom --enable-libass --enable-libbluray --enable-libbs2b --enable-libcaca --enable-libcdio --enable-libcodec2 --enable-libflite --enable-libfontconfig --enable-libfreetype --enable-libfribidi --enable-libgme --enable-libgsm --enable-libjack --enable-libmp3lame --enable-libmysofa --enable-libopenjpeg --enable-libopenmpt --enable-libopus --enable-libpulse --enable-librsvg --enable-librubberband --enable-libshine --enable-libsnappy --enable-libsoxr --enable-libspeex --enable-libssh --enable-libtheora --enable-libtwolame --enable-libvidstab --enable-libvorbis --enable-libvpx --enable-libwavpack --enable-libwebp --enable-libx265 --enable-libxml2 --enable-libxvid --enable-libzmq --enable-libzvbi --enable-lv2 --enable-omx --enable-openal --enable-opencl --enable-opengl --enable-sdl2 --enable-libdc1394 --enable-libdrm --enable-libiec61883 --enable-nvenc --enable-chromaprint --enable-frei0r --enable-libx264 --enable-shared\n",
      "  libavutil      56. 31.100 / 56. 31.100\n",
      "  libavcodec     58. 54.100 / 58. 54.100\n",
      "  libavformat    58. 29.100 / 58. 29.100\n",
      "  libavdevice    58.  8.100 / 58.  8.100\n",
      "  libavfilter     7. 57.100 /  7. 57.100\n",
      "  libavresample   4.  0.  0 /  4.  0.  0\n",
      "  libswscale      5.  5.100 /  5.  5.100\n",
      "  libswresample   3.  5.100 /  3.  5.100\n",
      "  libpostproc    55.  5.100 / 55.  5.100\n",
      "Input #0, image2, from '*.png':\n",
      "  Duration: 00:00:16.67, start: 0.000000, bitrate: N/A\n",
      "    Stream #0:0: Video: png, rgba(pc), 720x720 [SAR 2835:2835 DAR 1:1], 30 fps, 30 tbr, 30 tbn, 30 tbc\n",
      "Stream mapping:\n",
      "  Stream #0:0 -> #0:0 (png (native) -> h264 (libx264))\n",
      "Press [q] to stop, [?] for help\n",
      "\u001b[1;36m[libx264 @ 0x55c9e945bb80] \u001b[0musing SAR=1/1\n",
      "\u001b[1;36m[libx264 @ 0x55c9e945bb80] \u001b[0musing cpu capabilities: MMX2 SSE2Fast SSSE3 SSE4.2 AVX FMA3 BMI2 AVX2\n",
      "\u001b[1;36m[libx264 @ 0x55c9e945bb80] \u001b[0mprofile High 4:4:4 Predictive, level 3.1, 4:4:4 8-bit\n",
      "\u001b[1;36m[libx264 @ 0x55c9e945bb80] \u001b[0m264 - core 155 r2917 0a84d98 - H.264/MPEG-4 AVC codec - Copyleft 2003-2018 - http://www.videolan.org/x264.html - options: cabac=1 ref=3 deblock=1:0:0 analyse=0x1:0x111 me=hex subme=7 psy=1 psy_rd=1.00:0.00 mixed_ref=1 me_range=16 chroma_me=1 trellis=1 8x8dct=0 cqm=0 deadzone=21,11 fast_pskip=1 chroma_qp_offset=4 threads=12 lookahead_threads=2 sliced_threads=0 nr=0 decimate=1 interlaced=0 bluray_compat=0 constrained_intra=0 bframes=3 b_pyramid=2 b_adapt=1 b_bias=0 direct=1 weightb=1 open_gop=0 weightp=2 keyint=250 keyint_min=25 scenecut=40 intra_refresh=0 rc_lookahead=40 rc=crf mbtree=1 crf=23.0 qcomp=0.60 qpmin=0 qpmax=69 qpstep=4 ip_ratio=1.40 aq=1:1.00\n",
      "Output #0, mp4, to 'out3.mp4':\n",
      "  Metadata:\n",
      "    encoder         : Lavf58.29.100\n",
      "    Stream #0:0: Video: h264 (libx264) (avc1 / 0x31637661), yuv444p, 720x720 [SAR 1:1 DAR 1:1], q=-1--1, 30 fps, 15360 tbn, 30 tbc\n",
      "    Metadata:\n",
      "      encoder         : Lavc58.54.100 libx264\n",
      "    Side data:\n",
      "      cpb: bitrate max/min/avg: 0/0/0 buffer size: 0 vbv_delay: -1\n",
      "frame=  500 fps=178 q=-1.0 Lsize=     179kB time=00:00:16.56 bitrate=  88.7kbits/s speed=5.91x    \n",
      "video:173kB audio:0kB subtitle:0kB other streams:0kB global headers:0kB muxing overhead: 3.772818%\n",
      "\u001b[1;36m[libx264 @ 0x55c9e945bb80] \u001b[0mframe I:2     Avg QP: 9.18  size:  3149\n",
      "\u001b[1;36m[libx264 @ 0x55c9e945bb80] \u001b[0mframe P:156   Avg QP:13.31  size:   709\n",
      "\u001b[1;36m[libx264 @ 0x55c9e945bb80] \u001b[0mframe B:342   Avg QP:20.70  size:   174\n",
      "\u001b[1;36m[libx264 @ 0x55c9e945bb80] \u001b[0mconsecutive B-frames:  0.8% 19.6% 13.2% 66.4%\n",
      "\u001b[1;36m[libx264 @ 0x55c9e945bb80] \u001b[0mmb I  I16..4: 96.0%  0.0%  4.0%\n",
      "\u001b[1;36m[libx264 @ 0x55c9e945bb80] \u001b[0mmb P  I16..4:  0.6%  0.0%  0.1%  P16..4:  0.6%  0.9%  0.5%  0.0%  0.0%    skip:97.2%\n",
      "\u001b[1;36m[libx264 @ 0x55c9e945bb80] \u001b[0mmb B  I16..4:  0.0%  0.0%  0.0%  B16..8:  1.6%  0.5%  0.1%  direct: 0.0%  skip:97.8%  L0:34.5% L1:41.3% BI:24.3%\n",
      "\u001b[1;36m[libx264 @ 0x55c9e945bb80] \u001b[0mcoded y,u,v intra: 6.4% 0.0% 0.0% inter: 0.3% 0.0% 0.0%\n",
      "\u001b[1;36m[libx264 @ 0x55c9e945bb80] \u001b[0mi16 v,h,dc,p: 89%  8%  3%  0%\n",
      "\u001b[1;36m[libx264 @ 0x55c9e945bb80] \u001b[0mi4 v,h,dc,ddl,ddr,vr,hd,vl,hu: 26% 15% 29%  2%  7% 11%  6%  3%  1%\n",
      "\u001b[1;36m[libx264 @ 0x55c9e945bb80] \u001b[0mWeighted P-Frames: Y:0.0% UV:0.0%\n",
      "\u001b[1;36m[libx264 @ 0x55c9e945bb80] \u001b[0mref P L0: 80.0%  8.6%  8.6%  2.7%\n",
      "\u001b[1;36m[libx264 @ 0x55c9e945bb80] \u001b[0mref B L0: 86.7% 11.8%  1.5%\n",
      "\u001b[1;36m[libx264 @ 0x55c9e945bb80] \u001b[0mref B L1: 98.0%  2.0%\n",
      "\u001b[1;36m[libx264 @ 0x55c9e945bb80] \u001b[0mkb/s:84.66\n"
     ]
    }
   ],
   "source": [
    "!ffmpeg -framerate 30 -pattern_type glob -i '*.png' -c:v libx264  out3.mp4 -y"
   ]
  },
  {
   "cell_type": "code",
   "execution_count": 562,
   "metadata": {},
   "outputs": [
    {
     "data": {
      "text/html": [
       "<video src=\"out3.mp4\" controls  >\n",
       "      Your browser does not support the <code>video</code> element.\n",
       "    </video>"
      ],
      "text/plain": [
       "<IPython.core.display.Video object>"
      ]
     },
     "execution_count": 562,
     "metadata": {},
     "output_type": "execute_result"
    }
   ],
   "source": [
    "Video(\"out3.mp4\")"
   ]
  },
  {
   "cell_type": "code",
   "execution_count": null,
   "metadata": {},
   "outputs": [],
   "source": []
  }
 ],
 "metadata": {
  "kernelspec": {
   "display_name": "Python 3",
   "language": "python",
   "name": "python3"
  },
  "language_info": {
   "codemirror_mode": {
    "name": "ipython",
    "version": 3
   },
   "file_extension": ".py",
   "mimetype": "text/x-python",
   "name": "python",
   "nbconvert_exporter": "python",
   "pygments_lexer": "ipython3",
   "version": "3.8.5"
  }
 },
 "nbformat": 4,
 "nbformat_minor": 4
}
